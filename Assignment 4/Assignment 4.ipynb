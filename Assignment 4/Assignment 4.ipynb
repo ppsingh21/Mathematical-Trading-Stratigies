{
 "cells": [
  {
   "cell_type": "code",
   "execution_count": 2,
   "id": "1635440e",
   "metadata": {},
   "outputs": [
    {
     "name": "stdout",
     "output_type": "stream",
     "text": [
      "[*********************100%***********************]  1 of 1 completed\n",
      "Total Returns: 12.63%\n",
      "Maximum Drawdown: -41717.42%\n",
      "Sharpe Ratio: 4.96\n"
     ]
    }
   ],
   "source": [
    "import yfinance as yf\n",
    "import pandas as pd\n",
    "import numpy as np\n",
    "\n",
    "# Define the parameters for the strategy\n",
    "ema_short_period = 12\n",
    "ema_long_period = 26\n",
    "signal_period = 9\n",
    "target_profit = 0.05  # Target profit percentage\n",
    "stop_loss = 0.03  # Stop loss percentage\n",
    "\n",
    "# Fetch historical price data using Yahoo Finance API (you can replace 'AAPL' with your desired stock symbol)\n",
    "symbol = \"RELIANCE.NS\"\n",
    "data = yf.download(symbol, start=\"2013-07-10\", end=\"2023-07-10\")\n",
    "\n",
    "# Calculate MACD indicators\n",
    "data['ema_short'] = data['Close'].ewm(span=ema_short_period, adjust=False).mean()\n",
    "data['ema_long'] = data['Close'].ewm(span=ema_long_period, adjust=False).mean()\n",
    "data['macd_line'] = data['ema_short'] - data['ema_long']\n",
    "data['signal_line'] = data['macd_line'].ewm(span=signal_period, adjust=False).mean()\n",
    "data['histogram'] = data['macd_line'] - data['signal_line']\n",
    "\n",
    "# Detect Double Bottom pattern\n",
    "data['previous_low'] = data['Low'].shift(1)\n",
    "data['next_low'] = data['Low'].shift(-1)\n",
    "data['is_double_bottom'] = np.where(\n",
    "    (data['Low'] < data['previous_low']) & (data['Low'] < data['next_low']), True, False\n",
    ")\n",
    "\n",
    "# Initialize variables\n",
    "is_in_position = False\n",
    "buy_price = 0\n",
    "portfolio_value = 10000  # Initial portfolio value in USD\n",
    "shares = 0\n",
    "cumulative_returns = [0]\n",
    "maximum_drawdown = 0\n",
    "equity_curve = [portfolio_value]\n",
    "\n",
    "# Execute the trading strategy\n",
    "for i in range(1, len(data)):\n",
    "    close_price = data['Close'][i]\n",
    "    signal_line = data['signal_line'][i]\n",
    "    histogram = data['histogram'][i]\n",
    "    is_double_bottom = data['is_double_bottom'][i]\n",
    "\n",
    "    previous_portfolio_value = portfolio_value\n",
    "\n",
    "    if not is_in_position and is_double_bottom and histogram > 0 and signal_line > 0 and histogram > signal_line:\n",
    "        # Enter long position\n",
    "        is_in_position = True\n",
    "        buy_price = close_price\n",
    "        shares = portfolio_value / buy_price\n",
    "\n",
    "    elif is_in_position and (histogram < 0 or signal_line < 0 or close_price >= buy_price * (1 + target_profit) or close_price <= buy_price * (1 - stop_loss)):\n",
    "        # Exit long position\n",
    "        is_in_position = False\n",
    "        sell_price = close_price\n",
    "        portfolio_value = shares * sell_price\n",
    "        returns = (portfolio_value - previous_portfolio_value) / previous_portfolio_value\n",
    "        cumulative_returns.append(cumulative_returns[-1] + returns)\n",
    "        equity_curve.append(portfolio_value)\n",
    "\n",
    "        if portfolio_value < previous_portfolio_value and portfolio_value - previous_portfolio_value < maximum_drawdown:\n",
    "            maximum_drawdown = portfolio_value - previous_portfolio_value\n",
    "\n",
    "# Calculate evaluation metrics\n",
    "returns = np.array(cumulative_returns)\n",
    "total_returns = returns[-1]\n",
    "sharpe_ratio = np.sqrt(252) * np.mean(returns) / np.std(returns)\n",
    "\n",
    "# Print evaluation metrics\n",
    "print(\"Total Returns: {:.2%}\".format(total_returns))\n",
    "print(\"Maximum Drawdown: {:.2%}\".format(maximum_drawdown))\n",
    "print(\"Sharpe Ratio: {:.2f}\".format(sharpe_ratio))\n"
   ]
  },
  {
   "cell_type": "code",
   "execution_count": null,
   "id": "667b5cbe",
   "metadata": {},
   "outputs": [],
   "source": []
  }
 ],
 "metadata": {
  "kernelspec": {
   "display_name": "Python 3 (ipykernel)",
   "language": "python",
   "name": "python3"
  },
  "language_info": {
   "codemirror_mode": {
    "name": "ipython",
    "version": 3
   },
   "file_extension": ".py",
   "mimetype": "text/x-python",
   "name": "python",
   "nbconvert_exporter": "python",
   "pygments_lexer": "ipython3",
   "version": "3.11.3"
  }
 },
 "nbformat": 4,
 "nbformat_minor": 5
}
